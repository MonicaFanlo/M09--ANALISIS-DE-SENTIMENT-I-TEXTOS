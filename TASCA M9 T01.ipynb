{
 "cells": [
  {
   "cell_type": "markdown",
   "id": "712856d2",
   "metadata": {},
   "source": [
    "\n",
    "# TASCA M9 T01"
   ]
  },
  {
   "cell_type": "code",
   "execution_count": 1,
   "id": "1fdda3e3",
   "metadata": {},
   "outputs": [],
   "source": [
    "# Com a font de dades he agafat part d'un article de diari\n",
    "# https://www.theguardian.com/world/2022/dec/25/mafia-themed-food-items-unacceptable-says-italian-farmers-group\n",
    "\n",
    "text ='''Mafia-themed food items sold abroad unacceptable, say Italian farmers. Italy’s biggest farmers’ association is waging a battle against the “scandalous” use of mafia terms to sell a variety of food and drink products around the world, from Cosa Nostra whiskey to Chilli Mafia tomato sauce.\n",
    "\n",
    "Coldiretti undertook an extensive investigation and also discovered that almost 300 restaurants beyond Italy have mafia-themed names, including El Padrino in Spain, Don Corleone in Finland, Burger Mafia in Germany, Falafel Mafia in the US and Nasi Goreng Mafia in Indonesia.\n",
    "\n",
    "Alessandro Apolito, a branch manager at Coldiretti, said the most shocking discovery was a machine gun-shaped bottle of whisky produced in Scotland and called Cosa Nostra Shot.\n",
    "“It’s scandalous to think that somebody could buy something of this kind, even if it’s only for a joke,” said Apolito. “For us, joking about such serious things like the mafia is unacceptable.”\n",
    "\n",
    "He said the mafia-themed marketing not only caused incredible damage to Italy’s image and genuine produce, but was hugely offensive towards innocent Italians who have died or suffered at the hands of the country’s notorious criminal organisations.\n",
    "\n",
    "Coldiretti held an exhibition in December in the city of Palermo in Sicily, where the Cosa Nostra mafia organisation originated, of some of the food and drink items gathered from around the world, including Chilli Mafia, a sauce made in the UK, Mafia Coffee and Il Padrino wine.\n",
    "\n",
    "“Continuing to associate Italy with these mafia stereotypes and criminality is hugely damaging to the country’s image,” he said. “But the most significant issue is that it is an offence to the victims of the mafia as hundreds of innocent people have been killed by the mafia or suffer from its criminality. \n",
    "In Palermo, especially, there was a strong sense of indignation over this absurd marketing. There are millions of Sicilians who are honest and respect the laws but who are victims of this criminal plague.'''"
   ]
  },
  {
   "cell_type": "markdown",
   "id": "8a8be684",
   "metadata": {},
   "source": [
    "## EXERCICI 1\n",
    "\n",
    "Agafa un text en anglès que vulguis, i calcula'n la freqüència de les paraules."
   ]
  },
  {
   "cell_type": "code",
   "execution_count": 2,
   "id": "5e51f224",
   "metadata": {},
   "outputs": [],
   "source": [
    "import nltk\n",
    "from nltk.tokenize import word_tokenize"
   ]
  },
  {
   "cell_type": "code",
   "execution_count": 9,
   "id": "ed6ca39b",
   "metadata": {},
   "outputs": [
    {
     "name": "stdout",
     "output_type": "stream",
     "text": [
      "1979\n"
     ]
    }
   ],
   "source": [
    "print(len(text))"
   ]
  },
  {
   "cell_type": "code",
   "execution_count": 3,
   "id": "311a3d85",
   "metadata": {},
   "outputs": [
    {
     "name": "stdout",
     "output_type": "stream",
     "text": [
      "['Mafia-themed', 'food', 'items', 'sold', 'abroad', 'unacceptable', ',', 'say', 'Italian', 'farmers', '.', 'Italy', '’', 's', 'biggest', 'farmers', '’', 'association', 'is', 'waging', 'a', 'battle', 'against', 'the', '“', 'scandalous', '”', 'use', 'of', 'mafia', 'terms', 'to', 'sell', 'a', 'variety', 'of', 'food', 'and', 'drink', 'products', 'around', 'the', 'world', ',', 'from', 'Cosa', 'Nostra', 'whiskey', 'to', 'Chilli', 'Mafia', 'tomato', 'sauce', '.', 'Coldiretti', 'undertook', 'an', 'extensive', 'investigation', 'and', 'also', 'discovered', 'that', 'almost', '300', 'restaurants', 'beyond', 'Italy', 'have', 'mafia-themed', 'names', ',', 'including', 'El', 'Padrino', 'in', 'Spain', ',', 'Don', 'Corleone', 'in', 'Finland', ',', 'Burger', 'Mafia', 'in', 'Germany', ',', 'Falafel', 'Mafia', 'in', 'the', 'US', 'and', 'Nasi', 'Goreng', 'Mafia', 'in', 'Indonesia', '.', 'Alessandro', 'Apolito', ',', 'a', 'branch', 'manager', 'at', 'Coldiretti', ',', 'said', 'the', 'most', 'shocking', 'discovery', 'was', 'a', 'machine', 'gun-shaped', 'bottle', 'of', 'whisky', 'produced', 'in', 'Scotland', 'and', 'called', 'Cosa', 'Nostra', 'Shot', '.', '“', 'It', '’', 's', 'scandalous', 'to', 'think', 'that', 'somebody', 'could', 'buy', 'something', 'of', 'this', 'kind', ',', 'even', 'if', 'it', '’', 's', 'only', 'for', 'a', 'joke', ',', '”', 'said', 'Apolito', '.', '“', 'For', 'us', ',', 'joking', 'about', 'such', 'serious', 'things', 'like', 'the', 'mafia', 'is', 'unacceptable.', '”', 'He', 'said', 'the', 'mafia-themed', 'marketing', 'not', 'only', 'caused', 'incredible', 'damage', 'to', 'Italy', '’', 's', 'image', 'and', 'genuine', 'produce', ',', 'but', 'was', 'hugely', 'offensive', 'towards', 'innocent', 'Italians', 'who', 'have', 'died', 'or', 'suffered', 'at', 'the', 'hands', 'of', 'the', 'country', '’', 's', 'notorious', 'criminal', 'organisations', '.', 'Coldiretti', 'held', 'an', 'exhibition', 'in', 'December', 'in', 'the', 'city', 'of', 'Palermo', 'in', 'Sicily', ',', 'where', 'the', 'Cosa', 'Nostra', 'mafia', 'organisation', 'originated', ',', 'of', 'some', 'of', 'the', 'food', 'and', 'drink', 'items', 'gathered', 'from', 'around', 'the', 'world', ',', 'including', 'Chilli', 'Mafia', ',', 'a', 'sauce', 'made', 'in', 'the', 'UK', ',', 'Mafia', 'Coffee', 'and', 'Il', 'Padrino', 'wine', '.', '“', 'Continuing', 'to', 'associate', 'Italy', 'with', 'these', 'mafia', 'stereotypes', 'and', 'criminality', 'is', 'hugely', 'damaging', 'to', 'the', 'country', '’', 's', 'image', ',', '”', 'he', 'said', '.', '“', 'But', 'the', 'most', 'significant', 'issue', 'is', 'that', 'it', 'is', 'an', 'offence', 'to', 'the', 'victims', 'of', 'the', 'mafia', 'as', 'hundreds', 'of', 'innocent', 'people', 'have', 'been', 'killed', 'by', 'the', 'mafia', 'or', 'suffer', 'from', 'its', 'criminality', '.', 'In', 'Palermo', ',', 'especially', ',', 'there', 'was', 'a', 'strong', 'sense', 'of', 'indignation', 'over', 'this', 'absurd', 'marketing', '.', 'There', 'are', 'millions', 'of', 'Sicilians', 'who', 'are', 'honest', 'and', 'respect', 'the', 'laws', 'but', 'who', 'are', 'victims', 'of', 'this', 'criminal', 'plague', '.']\n"
     ]
    }
   ],
   "source": [
    "# Per extreure les paraules de tot el text\n",
    "\n",
    "tokenized_word = word_tokenize(text) \n",
    "\n",
    "print(tokenized_word)"
   ]
  },
  {
   "cell_type": "code",
   "execution_count": 4,
   "id": "16932ba6",
   "metadata": {},
   "outputs": [],
   "source": [
    "# Per a netejar text podria utilitzar diferents mètodes. Si fos un dataframe, podria fer una funció\n",
    "\n",
    "'''\n",
    "import re\n",
    "\n",
    "def clean (text):\n",
    "    text = re.sub('[^A-Za-z]+', ' ', text) # treu tot el que no sigui lletres(numerical i caracters)\n",
    "    return text\n",
    "\n",
    "# I neteja cada fila\n",
    "mydata['Cleaned Reviews'] = mydata['review'].apply(clean)\n",
    "mydata.head()\n",
    "'''\n",
    "# Per un text utilitzaré aquesta altre manera\n",
    "\n",
    "text_clean =[w for w in tokenized_word if w.isalpha()] #isalpha es True quen només son lletres alfabet"
   ]
  },
  {
   "cell_type": "code",
   "execution_count": 18,
   "id": "7c6c7fbb",
   "metadata": {},
   "outputs": [
    {
     "name": "stdout",
     "output_type": "stream",
     "text": [
      "317\n"
     ]
    }
   ],
   "source": [
    "print(len(text_clean))"
   ]
  },
  {
   "cell_type": "code",
   "execution_count": 5,
   "id": "3fac72d7",
   "metadata": {},
   "outputs": [],
   "source": [
    "# Hi ha paraules en majuscules i minuscules, en aquest cas ens interessaria veure la frequència juntes. De totes maneres, vaig\n",
    "#a fer una compració\n",
    "\n",
    "text_clean_low = [w.lower() for w in text_clean]"
   ]
  },
  {
   "cell_type": "code",
   "execution_count": 6,
   "id": "5b3c4467",
   "metadata": {},
   "outputs": [
    {
     "name": "stdout",
     "output_type": "stream",
     "text": [
      "<FreqDist with 183 samples and 317 outcomes>\n"
     ]
    }
   ],
   "source": [
    "from nltk.probability import FreqDist\n",
    "\n",
    "fdist = FreqDist(text_clean) # Distribució sense posar tot en minuscules\n",
    "\n",
    "print(fdist)"
   ]
  },
  {
   "cell_type": "code",
   "execution_count": 42,
   "id": "3a87f1df",
   "metadata": {},
   "outputs": [
    {
     "name": "stdout",
     "output_type": "stream",
     "text": [
      "  the    of    in   and     a    to     s mafia Mafia    is Italy  said  food  from  Cosa \n",
      "   19    13    10     9     7     7     6     6     6     5     4     4     3     3     3 \n"
     ]
    }
   ],
   "source": [
    "fdist.tabulate(15)"
   ]
  },
  {
   "cell_type": "code",
   "execution_count": 13,
   "id": "8e51e296",
   "metadata": {},
   "outputs": [],
   "source": [
    "fdist_low = FreqDist(text_clean_low) # Frequencies amb tot en minuscules"
   ]
  },
  {
   "cell_type": "code",
   "execution_count": 49,
   "id": "c49362ac",
   "metadata": {},
   "outputs": [
    {
     "name": "stdout",
     "output_type": "stream",
     "text": [
      "   the     of  mafia     in    and      a     to      s     is  italy   said   food   from   cosa nostra \n",
      "    19     13     12     11      9      7      7      6      5      4      4      3      3      3      3 \n"
     ]
    }
   ],
   "source": [
    "fdist_low .tabulate(15)"
   ]
  },
  {
   "cell_type": "code",
   "execution_count": 35,
   "id": "8c087c32",
   "metadata": {},
   "outputs": [
    {
     "data": {
      "image/png": "[encoded data removed]",
      "text/plain": [
       "<Figure size 1080x360 with 1 Axes>"
      ]
     },
     "metadata": {
      "needs_background": "light"
     },
     "output_type": "display_data"
    },
    {
     "data": {
      "image/png": "[encoded data removed]",
      "text/plain": [
       "<Figure size 1080x360 with 1 Axes>"
      ]
     },
     "metadata": {
      "needs_background": "light"
     },
     "output_type": "display_data"
    }
   ],
   "source": [
    "import matplotlib.pyplot as plt\n",
    "\n",
    "fig, axs = plt.subplots(figsize=(15,5))\n",
    "plt.xticks(fontsize =12)\n",
    "plt.ylim(0,20)\n",
    "\n",
    "fdist.plot(50, cumulative = False)\n",
    "\n",
    "fig, axs = plt.subplots(figsize=(15,5))\n",
    "plt.xticks(fontsize =12)\n",
    "plt.ylim(0,20)\n",
    "\n",
    "fig2= fdist_low.plot(50, cumulative = False)\n",
    "\n",
    "plt.show()"
   ]
  },
  {
   "cell_type": "markdown",
   "id": "2e5324e1",
   "metadata": {},
   "source": [
    "## EXERCICI 2\n",
    "\n",
    "Treu les stopwords i realitza stemming al teu conjunt de dades."
   ]
  },
  {
   "cell_type": "code",
   "execution_count": 36,
   "id": "938c8f79",
   "metadata": {},
   "outputs": [
    {
     "name": "stdout",
     "output_type": "stream",
     "text": [
      "{'doing', 'so', 'any', 'our', 'those', 'after', 'be', 'should', 'isn', 'wouldn', 'themselves', 'll', 'because', 'weren', \"couldn't\", 'were', 'own', 'into', \"needn't\", \"that'll\", 'will', 'nor', 'over', \"wasn't\", \"she's\", \"you've\", 'are', 'during', \"should've\", 'we', 'itself', 'theirs', 'shan', \"hasn't\", 'have', 'i', 'too', 'now', 'whom', 'himself', 'don', 't', 'your', 'having', 'it', 'been', 's', 'ma', 'but', 'yourself', 'hadn', 'can', 'aren', 'didn', 'do', \"don't\", 'mightn', \"mightn't\", 'him', 'than', 'being', 'here', 'is', 'very', 'as', 'a', 'which', 'each', 'who', \"wouldn't\", 'won', 'their', 'ours', 'am', 'yourselves', 'until', 'before', 'in', 'why', 'on', 'with', 'between', 'what', 'below', 'ourselves', 'm', \"didn't\", 'hasn', 'to', 'where', 'her', \"doesn't\", 'haven', \"you're\", 'once', 'his', 'me', \"you'd\", 'under', 'these', 'mustn', 'wasn', 'some', 'out', 'at', 'off', 'd', 'you', 'just', 'by', 've', \"you'll\", 'only', 'shouldn', 'myself', 'if', 'my', 'such', 'doesn', 'its', 'up', \"aren't\", \"hadn't\", 'the', 'an', 'there', 'for', 'how', 'again', 'not', 'them', 'from', 'or', 'this', \"weren't\", 'further', \"isn't\", 'about', 'o', 'has', 'he', 'was', 'few', 'couldn', 'did', 'needn', 'all', 'most', 'more', \"shouldn't\", 'no', 'of', 'yours', \"shan't\", 'had', \"it's\", 're', 'ain', 'above', \"won't\", \"mustn't\", 'she', 'hers', 'while', 'when', 'herself', 'that', 'other', 'both', 'and', 'y', 'they', 'then', 'against', 'does', 'through', 'same', \"haven't\", 'down'}\n"
     ]
    }
   ],
   "source": [
    "from nltk.corpus import stopwords\n",
    "\n",
    "stop_words = set(stopwords.words('english'))\n",
    "\n",
    "print(stop_words)"
   ]
  },
  {
   "cell_type": "code",
   "execution_count": 37,
   "id": "87e9f97d",
   "metadata": {},
   "outputs": [
    {
     "name": "stdout",
     "output_type": "stream",
     "text": [
      "['food', 'items', 'sold', 'abroad', 'unacceptable', 'say', 'italian', 'farmers', 'italy', 'biggest', 'farmers', 'association', 'waging', 'battle', 'scandalous', 'use', 'mafia', 'terms', 'sell', 'variety', 'food', 'drink', 'products', 'around', 'world', 'cosa', 'nostra', 'whiskey', 'chilli', 'mafia', 'tomato', 'sauce', 'coldiretti', 'undertook', 'extensive', 'investigation', 'also', 'discovered', 'almost', 'restaurants', 'beyond', 'italy', 'names', 'including', 'el', 'padrino', 'spain', 'corleone', 'finland', 'burger', 'mafia', 'germany', 'falafel', 'mafia', 'us', 'nasi', 'goreng', 'mafia', 'indonesia', 'alessandro', 'apolito', 'branch', 'manager', 'coldiretti', 'said', 'shocking', 'discovery', 'machine', 'bottle', 'whisky', 'produced', 'scotland', 'called', 'cosa', 'nostra', 'shot', 'scandalous', 'think', 'somebody', 'could', 'buy', 'something', 'kind', 'even', 'joke', 'said', 'apolito', 'us', 'joking', 'serious', 'things', 'like', 'mafia', 'said', 'marketing', 'caused', 'incredible', 'damage', 'italy', 'image', 'genuine', 'produce', 'hugely', 'offensive', 'towards', 'innocent', 'italians', 'died', 'suffered', 'hands', 'country', 'notorious', 'criminal', 'organisations', 'coldiretti', 'held', 'exhibition', 'december', 'city', 'palermo', 'sicily', 'cosa', 'nostra', 'mafia', 'organisation', 'originated', 'food', 'drink', 'items', 'gathered', 'around', 'world', 'including', 'chilli', 'mafia', 'sauce', 'made', 'uk', 'mafia', 'coffee', 'il', 'padrino', 'wine', 'continuing', 'associate', 'italy', 'mafia', 'stereotypes', 'criminality', 'hugely', 'damaging', 'country', 'image', 'said', 'significant', 'issue', 'offence', 'victims', 'mafia', 'hundreds', 'innocent', 'people', 'killed', 'mafia', 'suffer', 'criminality', 'palermo', 'especially', 'strong', 'sense', 'indignation', 'absurd', 'marketing', 'millions', 'sicilians', 'honest', 'respect', 'laws', 'victims', 'criminal', 'plague']\n"
     ]
    }
   ],
   "source": [
    "filtered_words =[]\n",
    "\n",
    "for w in text_clean_low:\n",
    "    if w not in stop_words:\n",
    "        filtered_words.append(w)\n",
    "print(filtered_words)"
   ]
  },
  {
   "cell_type": "code",
   "execution_count": 40,
   "id": "56b2f476",
   "metadata": {},
   "outputs": [
    {
     "data": {
      "image/png": "[encoded data removed]",
      "text/plain": [
       "<Figure size 1080x360 with 1 Axes>"
      ]
     },
     "metadata": {
      "needs_background": "light"
     },
     "output_type": "display_data"
    }
   ],
   "source": [
    "# Faig la frequencia i la gràfica de les paraules filtrades\n",
    "fdist_filt = FreqDist(filtered_words)\n",
    "import matplotlib.pyplot as plt\n",
    "\n",
    "fig, axs = plt.subplots(figsize=(15,5))\n",
    "plt.xticks(fontsize =12)\n",
    "plt.ylim(0,20)\n",
    "\n",
    "fdist_filt.plot(50, cumulative = False)\n",
    "\n",
    "plt.show()"
   ]
  },
  {
   "cell_type": "code",
   "execution_count": 41,
   "id": "2da1b998",
   "metadata": {},
   "outputs": [
    {
     "name": "stdout",
     "output_type": "stream",
     "text": [
      "['food', 'item', 'sold', 'abroad', 'unaccept', 'say', 'italian', 'farmer', 'itali', 'biggest', 'farmer', 'associ', 'wage', 'battl', 'scandal', 'use', 'mafia', 'term', 'sell', 'varieti', 'food', 'drink', 'product', 'around', 'world', 'cosa', 'nostra', 'whiskey', 'chilli', 'mafia', 'tomato', 'sauc', 'coldiretti', 'undertook', 'extens', 'investig', 'also', 'discov', 'almost', 'restaur', 'beyond', 'itali', 'name', 'includ', 'el', 'padrino', 'spain', 'corleon', 'finland', 'burger', 'mafia', 'germani', 'falafel', 'mafia', 'us', 'nasi', 'goreng', 'mafia', 'indonesia', 'alessandro', 'apolito', 'branch', 'manag', 'coldiretti', 'said', 'shock', 'discoveri', 'machin', 'bottl', 'whiski', 'produc', 'scotland', 'call', 'cosa', 'nostra', 'shot', 'scandal', 'think', 'somebodi', 'could', 'buy', 'someth', 'kind', 'even', 'joke', 'said', 'apolito', 'us', 'joke', 'seriou', 'thing', 'like', 'mafia', 'said', 'market', 'caus', 'incred', 'damag', 'itali', 'imag', 'genuin', 'produc', 'huge', 'offens', 'toward', 'innoc', 'italian', 'die', 'suffer', 'hand', 'countri', 'notori', 'crimin', 'organis', 'coldiretti', 'held', 'exhibit', 'decemb', 'citi', 'palermo', 'sicili', 'cosa', 'nostra', 'mafia', 'organis', 'origin', 'food', 'drink', 'item', 'gather', 'around', 'world', 'includ', 'chilli', 'mafia', 'sauc', 'made', 'uk', 'mafia', 'coffe', 'il', 'padrino', 'wine', 'continu', 'associ', 'itali', 'mafia', 'stereotyp', 'crimin', 'huge', 'damag', 'countri', 'imag', 'said', 'signific', 'issu', 'offenc', 'victim', 'mafia', 'hundr', 'innoc', 'peopl', 'kill', 'mafia', 'suffer', 'crimin', 'palermo', 'especi', 'strong', 'sens', 'indign', 'absurd', 'market', 'million', 'sicilian', 'honest', 'respect', 'law', 'victim', 'crimin', 'plagu']\n"
     ]
    }
   ],
   "source": [
    "# Realització del stemming\n",
    "\n",
    "from nltk.stem import PorterStemmer\n",
    "\n",
    "ps= PorterStemmer()\n",
    "\n",
    "stemmed_words =[]\n",
    "\n",
    "for w in filtered_words:\n",
    "    stemmed_words.append(ps.stem(w))\n",
    "\n",
    "print(stemmed_words)"
   ]
  },
  {
   "cell_type": "code",
   "execution_count": 43,
   "id": "7ef3895f",
   "metadata": {},
   "outputs": [
    {
     "name": "stdout",
     "output_type": "stream",
     "text": [
      "     mafia      itali       said     crimin       food       cosa     nostra coldiretti       item    italian \n",
      "        12          4          4          4          3          3          3          3          2          2 \n"
     ]
    }
   ],
   "source": [
    "fdist_stem = FreqDist(stemmed_words)\n",
    "fdist_stem.tabulate(10)"
   ]
  },
  {
   "cell_type": "markdown",
   "id": "0a8c6b3a",
   "metadata": {},
   "source": [
    "## EXERCICI 3\n",
    "\n",
    "Realitza sentiment analysis al teu conjunt de dades."
   ]
  },
  {
   "cell_type": "code",
   "execution_count": 50,
   "id": "d362fe98",
   "metadata": {},
   "outputs": [
    {
     "name": "stdout",
     "output_type": "stream",
     "text": [
      "Collecting textblob\n",
      "  Downloading textblob-0.17.1-py2.py3-none-any.whl (636 kB)\n",
      "Requirement already satisfied: nltk>=3.1 in c:\\users\\34626\\anaconda3\\lib\\site-packages (from textblob) (3.7)\n",
      "Requirement already satisfied: click in c:\\users\\34626\\anaconda3\\lib\\site-packages (from nltk>=3.1->textblob) (8.0.4)\n",
      "Requirement already satisfied: tqdm in c:\\users\\34626\\anaconda3\\lib\\site-packages (from nltk>=3.1->textblob) (4.64.0)\n",
      "Requirement already satisfied: joblib in c:\\users\\34626\\anaconda3\\lib\\site-packages (from nltk>=3.1->textblob) (1.1.0)\n",
      "Requirement already satisfied: regex>=2021.8.3 in c:\\users\\34626\\anaconda3\\lib\\site-packages (from nltk>=3.1->textblob) (2022.3.15)\n",
      "Requirement already satisfied: colorama in c:\\users\\34626\\anaconda3\\lib\\site-packages (from click->nltk>=3.1->textblob) (0.4.4)\n",
      "Installing collected packages: textblob\n",
      "Successfully installed textblob-0.17.1\n"
     ]
    }
   ],
   "source": [
    "!pip3 install textblob"
   ]
  },
  {
   "cell_type": "code",
   "execution_count": 51,
   "id": "ff24c4db",
   "metadata": {},
   "outputs": [
    {
     "name": "stdout",
     "output_type": "stream",
     "text": [
      "Sentiment(polarity=0.13645833333333332, subjectivity=0.6920138888888889)\n"
     ]
    }
   ],
   "source": [
    "from textblob import TextBlob\n",
    "\n",
    "analisis = TextBlob(text).sentiment\n",
    "\n",
    "print(analisis)"
   ]
  },
  {
   "cell_type": "code",
   "execution_count": null,
   "id": "5dbc9582",
   "metadata": {},
   "outputs": [],
   "source": [
    "El text és lleugerament positiu i existeix una alta polaritat o opinió"
   ]
  },
  {
   "cell_type": "markdown",
   "id": "0fa375b0",
   "metadata": {},
   "source": [
    "L'analisis de sentiments també es podria fer amb la biblioteca VADER, però aquesta està més enfocada a llenguatge de social media"
   ]
  },
  {
   "cell_type": "code",
   "execution_count": 54,
   "id": "c0e3347a",
   "metadata": {},
   "outputs": [
    {
     "data": {
      "text/plain": [
       "[('Mafia-themed', 'JJ'),\n",
       " ('food', 'NN'),\n",
       " ('items', 'NNS'),\n",
       " ('sold', 'VBN'),\n",
       " ('abroad', 'RB'),\n",
       " ('unacceptable', 'JJ'),\n",
       " ('say', 'VBP'),\n",
       " ('Italian', 'JJ'),\n",
       " ('farmers', 'NNS'),\n",
       " ('Italy', 'NNP'),\n",
       " ('’', 'NNP'),\n",
       " ('s', 'VBD'),\n",
       " ('biggest', 'JJS'),\n",
       " ('farmers', 'NNS'),\n",
       " ('’', 'NNP'),\n",
       " ('association', 'NN'),\n",
       " ('is', 'VBZ'),\n",
       " ('waging', 'VBG'),\n",
       " ('a', 'DT'),\n",
       " ('battle', 'NN'),\n",
       " ('against', 'IN'),\n",
       " ('the', 'DT'),\n",
       " ('“', 'NNP'),\n",
       " ('scandalous', 'JJ'),\n",
       " ('”', 'NNP'),\n",
       " ('use', 'NN'),\n",
       " ('of', 'IN'),\n",
       " ('mafia', 'NN'),\n",
       " ('terms', 'NNS'),\n",
       " ('to', 'TO'),\n",
       " ('sell', 'VB'),\n",
       " ('a', 'DT'),\n",
       " ('variety', 'NN'),\n",
       " ('of', 'IN'),\n",
       " ('food', 'NN'),\n",
       " ('and', 'CC'),\n",
       " ('drink', 'NN'),\n",
       " ('products', 'NNS'),\n",
       " ('around', 'IN'),\n",
       " ('the', 'DT'),\n",
       " ('world', 'NN'),\n",
       " ('from', 'IN'),\n",
       " ('Cosa', 'NNP'),\n",
       " ('Nostra', 'NNP'),\n",
       " ('whiskey', 'NN'),\n",
       " ('to', 'TO'),\n",
       " ('Chilli', 'NNP'),\n",
       " ('Mafia', 'NNP'),\n",
       " ('tomato', 'NN'),\n",
       " ('sauce', 'NN'),\n",
       " ('Coldiretti', 'NNP'),\n",
       " ('undertook', 'VBD'),\n",
       " ('an', 'DT'),\n",
       " ('extensive', 'JJ'),\n",
       " ('investigation', 'NN'),\n",
       " ('and', 'CC'),\n",
       " ('also', 'RB'),\n",
       " ('discovered', 'VBD'),\n",
       " ('that', 'IN'),\n",
       " ('almost', 'RB'),\n",
       " ('300', 'CD'),\n",
       " ('restaurants', 'NNS'),\n",
       " ('beyond', 'IN'),\n",
       " ('Italy', 'NNP'),\n",
       " ('have', 'VBP'),\n",
       " ('mafia-themed', 'VBN'),\n",
       " ('names', 'NNS'),\n",
       " ('including', 'VBG'),\n",
       " ('El', 'NNP'),\n",
       " ('Padrino', 'NNP'),\n",
       " ('in', 'IN'),\n",
       " ('Spain', 'NNP'),\n",
       " ('Don', 'NNP'),\n",
       " ('Corleone', 'NNP'),\n",
       " ('in', 'IN'),\n",
       " ('Finland', 'NNP'),\n",
       " ('Burger', 'NNP'),\n",
       " ('Mafia', 'NNP'),\n",
       " ('in', 'IN'),\n",
       " ('Germany', 'NNP'),\n",
       " ('Falafel', 'NNP'),\n",
       " ('Mafia', 'NNP'),\n",
       " ('in', 'IN'),\n",
       " ('the', 'DT'),\n",
       " ('US', 'NNP'),\n",
       " ('and', 'CC'),\n",
       " ('Nasi', 'NNP'),\n",
       " ('Goreng', 'NNP'),\n",
       " ('Mafia', 'NNP'),\n",
       " ('in', 'IN'),\n",
       " ('Indonesia', 'NNP'),\n",
       " ('Alessandro', 'NNP'),\n",
       " ('Apolito', 'NNP'),\n",
       " ('a', 'DT'),\n",
       " ('branch', 'NN'),\n",
       " ('manager', 'NN'),\n",
       " ('at', 'IN'),\n",
       " ('Coldiretti', 'NNP'),\n",
       " ('said', 'VBD'),\n",
       " ('the', 'DT'),\n",
       " ('most', 'RBS'),\n",
       " ('shocking', 'JJ'),\n",
       " ('discovery', 'NN'),\n",
       " ('was', 'VBD'),\n",
       " ('a', 'DT'),\n",
       " ('machine', 'NN'),\n",
       " ('gun-shaped', 'JJ'),\n",
       " ('bottle', 'NN'),\n",
       " ('of', 'IN'),\n",
       " ('whisky', 'NN'),\n",
       " ('produced', 'VBN'),\n",
       " ('in', 'IN'),\n",
       " ('Scotland', 'NNP'),\n",
       " ('and', 'CC'),\n",
       " ('called', 'VBD'),\n",
       " ('Cosa', 'NNP'),\n",
       " ('Nostra', 'NNP'),\n",
       " ('Shot', 'NNP'),\n",
       " ('“', 'VB'),\n",
       " ('It', 'PRP'),\n",
       " ('’', 'NNP'),\n",
       " ('s', 'VBZ'),\n",
       " ('scandalous', 'JJ'),\n",
       " ('to', 'TO'),\n",
       " ('think', 'VB'),\n",
       " ('that', 'IN'),\n",
       " ('somebody', 'NN'),\n",
       " ('could', 'MD'),\n",
       " ('buy', 'VB'),\n",
       " ('something', 'NN'),\n",
       " ('of', 'IN'),\n",
       " ('this', 'DT'),\n",
       " ('kind', 'NN'),\n",
       " ('even', 'RB'),\n",
       " ('if', 'IN'),\n",
       " ('it', 'PRP'),\n",
       " ('’', 'VBZ'),\n",
       " ('s', 'VBZ'),\n",
       " ('only', 'RB'),\n",
       " ('for', 'IN'),\n",
       " ('a', 'DT'),\n",
       " ('joke', 'NN'),\n",
       " ('”', 'NNP'),\n",
       " ('said', 'VBD'),\n",
       " ('Apolito', 'NNP'),\n",
       " ('“', 'NN'),\n",
       " ('For', 'IN'),\n",
       " ('us', 'PRP'),\n",
       " ('joking', 'VBG'),\n",
       " ('about', 'IN'),\n",
       " ('such', 'JJ'),\n",
       " ('serious', 'JJ'),\n",
       " ('things', 'NNS'),\n",
       " ('like', 'IN'),\n",
       " ('the', 'DT'),\n",
       " ('mafia', 'NN'),\n",
       " ('is', 'VBZ'),\n",
       " ('unacceptable.', 'JJ'),\n",
       " ('”', 'NN'),\n",
       " ('He', 'PRP'),\n",
       " ('said', 'VBD'),\n",
       " ('the', 'DT'),\n",
       " ('mafia-themed', 'JJ'),\n",
       " ('marketing', 'NN'),\n",
       " ('not', 'RB'),\n",
       " ('only', 'RB'),\n",
       " ('caused', 'VBD'),\n",
       " ('incredible', 'JJ'),\n",
       " ('damage', 'NN'),\n",
       " ('to', 'TO'),\n",
       " ('Italy', 'NNP'),\n",
       " ('’', 'NNP'),\n",
       " ('s', 'JJ'),\n",
       " ('image', 'NN'),\n",
       " ('and', 'CC'),\n",
       " ('genuine', 'JJ'),\n",
       " ('produce', 'NN'),\n",
       " ('but', 'CC'),\n",
       " ('was', 'VBD'),\n",
       " ('hugely', 'RB'),\n",
       " ('offensive', 'JJ'),\n",
       " ('towards', 'NNS'),\n",
       " ('innocent', 'JJ'),\n",
       " ('Italians', 'NNPS'),\n",
       " ('who', 'WP'),\n",
       " ('have', 'VBP'),\n",
       " ('died', 'VBN'),\n",
       " ('or', 'CC'),\n",
       " ('suffered', 'VBN'),\n",
       " ('at', 'IN'),\n",
       " ('the', 'DT'),\n",
       " ('hands', 'NNS'),\n",
       " ('of', 'IN'),\n",
       " ('the', 'DT'),\n",
       " ('country', 'NN'),\n",
       " ('’', 'NNP'),\n",
       " ('s', 'VBP'),\n",
       " ('notorious', 'JJ'),\n",
       " ('criminal', 'JJ'),\n",
       " ('organisations', 'NNS'),\n",
       " ('Coldiretti', 'NNP'),\n",
       " ('held', 'VBD'),\n",
       " ('an', 'DT'),\n",
       " ('exhibition', 'NN'),\n",
       " ('in', 'IN'),\n",
       " ('December', 'NNP'),\n",
       " ('in', 'IN'),\n",
       " ('the', 'DT'),\n",
       " ('city', 'NN'),\n",
       " ('of', 'IN'),\n",
       " ('Palermo', 'NNP'),\n",
       " ('in', 'IN'),\n",
       " ('Sicily', 'NNP'),\n",
       " ('where', 'WRB'),\n",
       " ('the', 'DT'),\n",
       " ('Cosa', 'NNP'),\n",
       " ('Nostra', 'NNP'),\n",
       " ('mafia', 'NN'),\n",
       " ('organisation', 'NN'),\n",
       " ('originated', 'VBD'),\n",
       " ('of', 'IN'),\n",
       " ('some', 'DT'),\n",
       " ('of', 'IN'),\n",
       " ('the', 'DT'),\n",
       " ('food', 'NN'),\n",
       " ('and', 'CC'),\n",
       " ('drink', 'VB'),\n",
       " ('items', 'NNS'),\n",
       " ('gathered', 'VBN'),\n",
       " ('from', 'IN'),\n",
       " ('around', 'IN'),\n",
       " ('the', 'DT'),\n",
       " ('world', 'NN'),\n",
       " ('including', 'VBG'),\n",
       " ('Chilli', 'NNP'),\n",
       " ('Mafia', 'NNP'),\n",
       " ('a', 'DT'),\n",
       " ('sauce', 'NN'),\n",
       " ('made', 'VBN'),\n",
       " ('in', 'IN'),\n",
       " ('the', 'DT'),\n",
       " ('UK', 'NNP'),\n",
       " ('Mafia', 'NNP'),\n",
       " ('Coffee', 'NNP'),\n",
       " ('and', 'CC'),\n",
       " ('Il', 'NNP'),\n",
       " ('Padrino', 'NNP'),\n",
       " ('wine', 'NN'),\n",
       " ('“', 'NN'),\n",
       " ('Continuing', 'VBG'),\n",
       " ('to', 'TO'),\n",
       " ('associate', 'VB'),\n",
       " ('Italy', 'NNP'),\n",
       " ('with', 'IN'),\n",
       " ('these', 'DT'),\n",
       " ('mafia', 'NNS'),\n",
       " ('stereotypes', 'NNS'),\n",
       " ('and', 'CC'),\n",
       " ('criminality', 'NN'),\n",
       " ('is', 'VBZ'),\n",
       " ('hugely', 'RB'),\n",
       " ('damaging', 'JJ'),\n",
       " ('to', 'TO'),\n",
       " ('the', 'DT'),\n",
       " ('country', 'NN'),\n",
       " ('’', 'NNP'),\n",
       " ('s', 'NN'),\n",
       " ('image', 'NN'),\n",
       " ('”', 'CC'),\n",
       " ('he', 'PRP'),\n",
       " ('said', 'VBD'),\n",
       " ('“', 'NN'),\n",
       " ('But', 'CC'),\n",
       " ('the', 'DT'),\n",
       " ('most', 'RBS'),\n",
       " ('significant', 'JJ'),\n",
       " ('issue', 'NN'),\n",
       " ('is', 'VBZ'),\n",
       " ('that', 'IN'),\n",
       " ('it', 'PRP'),\n",
       " ('is', 'VBZ'),\n",
       " ('an', 'DT'),\n",
       " ('offence', 'NN'),\n",
       " ('to', 'TO'),\n",
       " ('the', 'DT'),\n",
       " ('victims', 'NNS'),\n",
       " ('of', 'IN'),\n",
       " ('the', 'DT'),\n",
       " ('mafia', 'NN'),\n",
       " ('as', 'IN'),\n",
       " ('hundreds', 'NNS'),\n",
       " ('of', 'IN'),\n",
       " ('innocent', 'JJ'),\n",
       " ('people', 'NNS'),\n",
       " ('have', 'VBP'),\n",
       " ('been', 'VBN'),\n",
       " ('killed', 'VBN'),\n",
       " ('by', 'IN'),\n",
       " ('the', 'DT'),\n",
       " ('mafia', 'NN'),\n",
       " ('or', 'CC'),\n",
       " ('suffer', 'NN'),\n",
       " ('from', 'IN'),\n",
       " ('its', 'PRP$'),\n",
       " ('criminality', 'NN'),\n",
       " ('In', 'IN'),\n",
       " ('Palermo', 'NNP'),\n",
       " ('especially', 'RB'),\n",
       " ('there', 'EX'),\n",
       " ('was', 'VBD'),\n",
       " ('a', 'DT'),\n",
       " ('strong', 'JJ'),\n",
       " ('sense', 'NN'),\n",
       " ('of', 'IN'),\n",
       " ('indignation', 'NN'),\n",
       " ('over', 'IN'),\n",
       " ('this', 'DT'),\n",
       " ('absurd', 'JJ'),\n",
       " ('marketing', 'NN'),\n",
       " ('There', 'EX'),\n",
       " ('are', 'VBP'),\n",
       " ('millions', 'NNS'),\n",
       " ('of', 'IN'),\n",
       " ('Sicilians', 'NNPS'),\n",
       " ('who', 'WP'),\n",
       " ('are', 'VBP'),\n",
       " ('honest', 'JJS'),\n",
       " ('and', 'CC'),\n",
       " ('respect', 'VB'),\n",
       " ('the', 'DT'),\n",
       " ('laws', 'NNS'),\n",
       " ('but', 'CC'),\n",
       " ('who', 'WP'),\n",
       " ('are', 'VBP'),\n",
       " ('victims', 'NNS'),\n",
       " ('of', 'IN'),\n",
       " ('this', 'DT'),\n",
       " ('criminal', 'JJ'),\n",
       " ('plague', 'NN')]"
      ]
     },
     "execution_count": 54,
     "metadata": {},
     "output_type": "execute_result"
    }
   ],
   "source": [
    "# Amb textblob també es pot fer POS-tags o d'altres funcions\n",
    "text_blob = TextBlob(text)\n",
    "\n",
    "text_blob.tags"
   ]
  },
  {
   "cell_type": "code",
   "execution_count": null,
   "id": "bc5aa3d3",
   "metadata": {},
   "outputs": [],
   "source": []
  }
 ],
 "metadata": {
  "kernelspec": {
   "display_name": "Python 3 (ipykernel)",
   "language": "python",
   "name": "python3"
  },
  "language_info": {
   "codemirror_mode": {
    "name": "ipython",
    "version": 3
   },
   "file_extension": ".py",
   "mimetype": "text/x-python",
   "name": "python",
   "nbconvert_exporter": "python",
   "pygments_lexer": "ipython3",
   "version": "3.9.12"
  }
 },
 "nbformat": 4,
 "nbformat_minor": 5
}
